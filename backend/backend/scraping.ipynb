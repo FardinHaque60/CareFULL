{
 "cells": [
  {
   "cell_type": "code",
   "execution_count": 1,
   "metadata": {},
   "outputs": [],
   "source": [
    "import scraping\n",
    "from scraping import scraper"
   ]
  },
  {
   "cell_type": "code",
   "execution_count": 2,
   "metadata": {},
   "outputs": [],
   "source": [
    "topics_urls = []\n",
    "base_topic_url = \"https://www.webmd.com/a-to-z-guides/health-topics?pg=\"\n",
    "for num in range(97, 97 + 26):\n",
    "    topics_urls.append(base_topic_url + chr(num))"
   ]
  },
  {
   "cell_type": "code",
   "execution_count": 3,
   "metadata": {},
   "outputs": [
    {
     "name": "stdout",
     "output_type": "stream",
     "text": [
      "Making request for https://www.webmd.com/a-to-z-guides/health-topics?pg=z\n",
      "Making request for https://www.webmd.com/oral-health/oral-lichen-planus\n",
      "Making request for https://www.webmd.com/digestive-disorders/zollinger-ellison-syndrome\n",
      "Making request for https://www.webmd.com/a-to-z-guides/zika-virus-symptoms-prevention\n",
      "Processing soup https://www.webmd.com/oral-health/oral-lichen-planus\n",
      "Processing soup https://www.webmd.com/digestive-disorders/zollinger-ellison-syndrome\n",
      "Processing soup https://www.webmd.com/a-to-z-guides/zika-virus-symptoms-prevention\n",
      "Skipped soup https://www.webmd.com/a-to-z-guides/zika-virus-symptoms-prevention\n"
     ]
    }
   ],
   "source": [
    "for i in range(len(topics_urls)):\n",
    "    webscraper = scraper(topics_urls[i:i+1], \"./scraped/out_\"+chr(97+i)+\".csv\")\n",
    "    webscraper.scrape()"
   ]
  }
 ],
 "metadata": {
  "kernelspec": {
   "display_name": ".venv",
   "language": "python",
   "name": "python3"
  },
  "language_info": {
   "codemirror_mode": {
    "name": "ipython",
    "version": 3
   },
   "file_extension": ".py",
   "mimetype": "text/x-python",
   "name": "python",
   "nbconvert_exporter": "python",
   "pygments_lexer": "ipython3",
   "version": "3.10.4"
  }
 },
 "nbformat": 4,
 "nbformat_minor": 2
}
