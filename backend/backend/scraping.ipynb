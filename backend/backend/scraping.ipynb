{
 "cells": [
  {
   "cell_type": "code",
   "execution_count": null,
   "metadata": {},
   "outputs": [],
   "source": [
    "import scraping\n",
    "from scraping import scraper\n",
    "import pandas as pd\n",
    "import ast"
   ]
  },
  {
   "cell_type": "code",
   "execution_count": null,
   "metadata": {},
   "outputs": [],
   "source": [
    "topics_urls = []\n",
    "base_topic_url = \"https://www.webmd.com/a-to-z-guides/health-topics?pg=\"\n",
    "for num in range(97, 97 + 26):\n",
    "    topics_urls.append(base_topic_url + chr(num))"
   ]
  },
  {
   "cell_type": "code",
   "execution_count": null,
   "metadata": {},
   "outputs": [],
   "source": [
    "'''\n",
    "for i in range(len(topics_urls)):\n",
    "    webscraper = scraper(topics_urls[i:i+1], \"./scraped/out_\"+chr(97+i)+\".csv\")\n",
    "    webscraper.scrape()\n",
    "'''"
   ]
  },
  {
   "cell_type": "code",
   "execution_count": null,
   "metadata": {},
   "outputs": [],
   "source": [
    "df = pd.read_csv(\"scraped/webmd_diseases.csv\")\n",
    "df.loc[0, \"body\"]"
   ]
  },
  {
   "cell_type": "code",
   "execution_count": null,
   "metadata": {},
   "outputs": [],
   "source": [
    "def parse(text):\n",
    "    text = text[1:-1].replace(\"\\\\xa0\", ' ').replace(\"\\\",\", \"|\").replace(\"',\", \"|\").replace(\"\\\\\", \"\").split(\"|\")\n",
    "    for i in range(len(text)):\n",
    "        text[i] = text[i].strip(\" \\\"'\")\n",
    "    return text"
   ]
  },
  {
   "cell_type": "code",
   "execution_count": null,
   "metadata": {},
   "outputs": [],
   "source": [
    "def df_with_map_text_chunk_to_index(df):\n",
    "    mapped = pd.DataFrame(columns=[\"df_index\", \"text\"])\n",
    "    for i in range(df.shape[0]):\n",
    "        parsed = parse(df.loc[i, \"body\"])\n",
    "        article_row = []\n",
    "        for chunk in parsed:\n",
    "            new_row = {\"df_index\": i, \"text\": chunk}\n",
    "            article_row.append(new_row)\n",
    "        new_df = pd.DataFrame(article_row)\n",
    "        mapped = pd.concat([mapped, new_df])\n",
    "    return mapped"
   ]
  },
  {
   "cell_type": "code",
   "execution_count": null,
   "metadata": {},
   "outputs": [],
   "source": [
    "p = df_with_map_text_chunk_to_index(df)\n",
    "p.shape"
   ]
  },
  {
   "cell_type": "code",
   "execution_count": null,
   "metadata": {},
   "outputs": [],
   "source": [
    "test = pd.read_csv(\"scraped/chunked_embedding.csv\", converters={\"embedding\": ast.literal_eval})\n"
   ]
  },
  {
   "cell_type": "code",
   "execution_count": null,
   "metadata": {},
   "outputs": [],
   "source": [
    "val = test.loc[:, 'embedding'].values\n",
    "for l in val:\n",
    "    print(len(l))"
   ]
  }
 ],
 "metadata": {
  "kernelspec": {
   "display_name": ".venv",
   "language": "python",
   "name": "python3"
  },
  "language_info": {
   "codemirror_mode": {
    "name": "ipython",
    "version": 3
   },
   "file_extension": ".py",
   "mimetype": "text/x-python",
   "name": "python",
   "nbconvert_exporter": "python",
   "pygments_lexer": "ipython3",
   "version": "3.10.4"
  }
 },
 "nbformat": 4,
 "nbformat_minor": 2
}
