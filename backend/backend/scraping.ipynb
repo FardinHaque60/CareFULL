{
 "cells": [
  {
   "cell_type": "code",
   "execution_count": 1,
   "metadata": {},
   "outputs": [],
   "source": [
    "import scraping\n",
    "from scraping import scraper\n",
    "import pandas as pd\n",
    "import ast\n",
    "import llm"
   ]
  },
  {
   "cell_type": "code",
   "execution_count": 2,
   "metadata": {},
   "outputs": [],
   "source": [
    "topics_urls = []\n",
    "base_topic_url = \"https://www.webmd.com/a-to-z-guides/health-topics?pg=\"\n",
    "for num in range(97, 97 + 26):\n",
    "    topics_urls.append(base_topic_url + chr(num))"
   ]
  },
  {
   "cell_type": "code",
   "execution_count": 3,
   "metadata": {},
   "outputs": [
    {
     "data": {
      "text/plain": [
       "'\\nfor i in range(len(topics_urls)):\\n    webscraper = scraper(topics_urls[i:i+1], \"./scraped/out_\"+chr(97+i)+\".csv\")\\n    webscraper.scrape()\\n'"
      ]
     },
     "execution_count": 3,
     "metadata": {},
     "output_type": "execute_result"
    }
   ],
   "source": [
    "'''\n",
    "for i in range(len(topics_urls)):\n",
    "    webscraper = scraper(topics_urls[i:i+1], \"./scraped/out_\"+chr(97+i)+\".csv\")\n",
    "    webscraper.scrape()\n",
    "'''"
   ]
  },
  {
   "cell_type": "code",
   "execution_count": 4,
   "metadata": {},
   "outputs": [
    {
     "data": {
      "text/plain": [
       "'[\"What Is AAT Deficiency? Alpha-1 antitrypsin (AAT) deficiency is a condition that can cause serious lung or liver disease. Symptoms often include trouble breathing and jaundiced, or yellow, skin. It\\'s a genetic disease, which means it\\'s passed down to you from your parents. You get it because your liver doesn\\'t make enough of the AAT protein, and much of what it does make gets trapped in your liver. You need this protein to protect your lungs from inflammation and damage caused by infections and irritants such as smoke and pollution. If your lungs are damaged, you can get COPD or emphysema. AAT deficiency is sometimes known as genetic COPD or genetic emphysema. And when AAT\\\\xa0builds up in your liver, the buildup may cause scarring, or cirrhosis, of your liver. You might not know you have the disease until you\\'re an adult. Most people get their first symptoms between the ages of 20 and 50.\", \"Symptoms of AAT Deficiency When you have AAT deficiency, your lungs don\\'t get enough of a protein they need to protect them. This can lead to COPD or emphysema. (Photo credit: Lisa F. Young/Dreamstime) Common symptoms of AAT deficiency\\\\xa0include: Wheezing or whistling sounds when you breathe Having colds often Feeling tired A fast heartbeat when you stand up Weight loss\", \"If AAT deficiency affects your liver,\\\\xa0you could have: Yellowish skin or eyes A swollen belly or legs Coughing up of blood A newborn baby\\\\xa0might have: Yellowing of the skin or eyes (jaundice) Bright yellow urine Trouble gaining weight An enlarged liver Bleeding from the nose or umbilical stump Pale, smelly poop Low energy It\\'s rare, but some people also get a skin disease called panniculitis. It is inflammation of the fat layer under your skin and causes hardening of the skin along with painful lumps or patches.\", \"How Alpha-1 Affects Your Liver Alpha-1 is a rare disease that makes an enzyme in your liver work poorly. Alpha-1 antitrypsin protein usually travels from your liver through your blood to protect your lungs and other organs. But if the proteins aren\\'t the right shape, they can get stuck in your liver. This can cause cirrhosis , severe liver damage and scarring, and liver cancer . And because the proteins aren\\'t traveling to your lungs like they should, it can also cause lung problems.\", \"AAT Testing First, your doctor will listen to your breathing with a stethoscope to check for wheezing or other signs that your lungs aren\\'t working right. Blood tests. These will show the levels of AAT in your blood and measure your liver function. A special blood test called a blood gases test looks at the oxygen level in your arteries, a sign of how well your lungs work. Genetic testing: If your blood levels of AAT are low, these tests will find abnormal genes and see if any have a link to AAT. Imaging. X-rays and CT scans show where damage is in your lungs and how serious it is. Pulmonary function tests. You\\'ll breathe into a machine that measures how well your lungs are working. Liver ultrasound or elastography. These tests will show if there are signs of scarring on your liver. Liver biopsy. A small sample of cells is taken using a very thin needle and checked for signs of damage.\", \"Questions for the Doctor It\\'s important to ask your doctor any question you have about this condition. You might start with these: Have you treated other people with AAT deficiency? What treatments do you suggest? Is replacement therapy something that may be right for me? What are my chances of having COPD or emphysema? How will we know how I\\'m doing? Should my children be tested for this condition? Is it safe for me to exercise? What are some things I can do to manage my symptoms?\", \"Alpha-1 Antitrypsin Deficiency Treatment There\\'s no cure for AAT deficiency. But you can protect yourself from more lung damage with a treatment called augmentation therapy, sometimes called replacement therapy. It works by raising the amount of AAT protein in your blood. You may also have this treatment if you get emphysema. With this treatment, you get a new supply of AAT protein from healthy human donors through an IV once a week. You can have this procedure at your doctor\\'s office or at home with the help of a technician.\", \"Augmentation therapy can slow or stop the damage to your lungs, but it won\\'t reverse the disease or heal any damage you already have. You\\'ll need these treatments for the rest of your life. You may also get a bronchodilator, or medication to open your airways that you breathe into your lungs with an inhaler. If your breathing trouble leads to low levels of oxygen in your blood, you might need extra oxygen through a mask or nosepiece. Your doctor may also suggest that you go into pulmonary rehab, where you can learn breathing techniques and exercises, as well as how to make some everyday activities easier.\", \"Why Get Tested for Alpha-1? Though there\\'s no cure for AAT deficiency, there are treatments to delay or prevent lung disease. It\\'s also important to know if you can pass the genes on to family members. A healthy lifestyle--including a balanced diet, regular exercise, and not smoking--can help keep your lungs in the best possible shape. If you do develop lung disease, you can work with your doctor on a plan to help you manage symptoms and feel your best.\", \"Your Care Team for AAT Deficiency Your health care team is an important part of diagnosing and treating AAT deficiency. Here are some of the medical professionals you could visit for care: Pediatrician. You\\'re more likely to get AAT deficiency as an adult, but kids get it, too. A pediatrician takes care of the general health of children and young adults, or they may specialize in certain health conditions. Geneticist. Since AAT deficiency is a genetic disease, your doctor may suggest genetic testing to precisely diagnose or help manage it. Geneticists and genetic counselors work with you and your regular doctor to include genetic information in your health care plan. Pulmonologist. These doctors diagnose and treat illnesses that affect your lungs, such as AAT deficiency. Gastroenterologist. AAT deficiency can also affect your liver, one of the organs that gastroenterologists focus on. These doctors mainly diagnose and treat diseases affecting your digestive tract. Pulmonary rehab team. Experts suggest pulmonary rehabilitation for people with AAT deficiency. This is a program of exercise, breathing techniques, education, nutrition, and more. It\\'s designed to help people with pulmonary disease. Doctors, nurses, physical and respiratory therapists, exercise specialists, and dietitians could all be part of your rehab team.\", \"What to Expect With AAT Deficiency AAT deficiency is different for everyone. Some people have severe problems. Others may have few or no symptoms. Breathing issues. You\\'ll be more sensitive to smoke, dust, and allergens like pollen. If you catch a cold, your symptoms may be stronger. You also might have chronic bronchitis, an irritation of your airways that causes coughing and affects breathing. COPD. AAT deficiency can cause chronic obstructive pulmonary disease (COPD). When you have COPD, you often have symptoms of emphysema, a serious condition that makes it hard for you to push air out of your lungs. COPD can make you wheeze and struggle to breathe. You may cough up mucus and feel tightness in your chest. Liver issues. About 30% to 40% of people with this condition will have liver problems at some point in their lives. While these health issues are possibilities, with treatment, you\\'ll probably still be able to work, be active, and enjoy many of your favorite hobbies. In babies and children, the condition is more likely to cause liver damage than lung problems. Still, only about 10% of children with it have severe liver disease. Children with AAT deficiency also may have asthma.\", \\'Treating Liver Problems If your liver is damaged, you can get treatment to help prevent or slow down the health problems this can cause. You can also get treatments to ease symptoms. These include: Vitamin supplements Medicines to ease itching or jaundice Treatments for bleeding and fluid in your belly If your liver damage is life-threatening or severe, you may need a liver transplant.\\', \"How Your AAT Deficiency Might Change Over Time You could have the gene that causes AAT deficiency and never have symptoms or organ damage. This is especially true if you avoid smoking. Meanwhile, others with the illness have serious, even deadly health problems. Other conditions that can happen with AAT deficiency include: Lung conditions that get worse over time, like COPD Lasting airway damage (emphysema, bronchiectasis) High blood pressure that affects the arteries from your heart to your lungs (pulmonary hypertension) Liver scarring Liver cancer Heart, liver, or respiratory failure Inflammation of fat beneath the skin (panniculitis) Many people with AAT deficiency live a normal lifespan, especially if they don\\'t smoke. Others may have serious complications. Your medical outlook depends on: Whether you\\'re diagnosed promptly The type of Alpha-1 you have How the disease impacts you Your level of organ damage How strong your lungs are If your lung or liver disease is getting worse quickly or more slowly If you smoke The best thing you can do is follow guidance from your doctor to manage your condition.\", \"Tips for Living With AAT Deficiency Good habits are important to help you stay healthy with this condition. There are several things you can do to manage your symptoms: Stay away from things that can irritate your lungs, like smoke, dust, and pet hair. Steer clear of infections: Wash your hands often, and stay away from others who are sick. Pay attention to how you feel, and pace yourself if you need to. Take your medications as prescribed. Stay up to date on vaccines, including those for flu and COVID-19. Talk to your doctor about how to exercise safely. Limit how much alcohol you drink. If you don\\'t drink, don\\'t start. Don\\'t smoke. If you need help to quit, talk to your doctor. Eat a healthful diet. Make daily tasks easier: Plan chores so you can cut down on climbing stairs, or use a rolling cart to move things from place to place. Get the support you need: Ask friends and family for help with tasks. Consider joining a support group to talk with others in a similar situation. If you have feelings of depression, talk to your doctor or a counselor about what treatments may help.\", \\'Caring for Your Emotional and Mental Health Living with AAT deficiency can affect your emotional health. You\\\\\\'re more likely to have feelings of anxiety and depression than someone who doesn\\\\\\'t have it. It\\\\\\'s important to be aware of how you feel and take steps to help yourself feel better. Let your doctor know how you feel. If your low mood persists, your care provider may suggest that you work with a counselor or therapist. They may also prescribe medications that can help. Take care of your health. Your physical health can affect your mood, so keep up with healthy habits: Get enough sleep, eat a healthy diet, and stay as active as you can with your doctor\\\\\\'s OK. Watch your stress levels. Stress can affect how you breathe, so learn techniques that help you manage it. This can be things like breathing exercises, journaling, meditation, or just taking some \"you time.\" Connect with support groups. It can help to talk to people who understand what you\\\\\\'re going through. You can find names of doctors, links to support groups, genetic counseling resources, and other information from the Alpha-1 Foundation website. Ask for help when you need it. Whether it\\\\\\'s taking over some chores for a while or giving a listening ear, support from your loved ones can make a big difference. Let loved ones know how they can help you when you\\\\\\'re not feeling your best.\\', \"The Future of Treatment While augmentation therapy works to slow or stop lung damage from AAT deficiency, it\\'s only for people who are seriously ill. This means people with less severe symptoms often don\\'t get treatment. Augmentation therapy is also expensive, and weekly treatments can be inconvenient. Also, it only treats lung disease, not liver disease that sometimes forms when you have AAT deficiency. Researchers are now looking into new options for people living with this lifelong disease. Here\\'s a closer look at some of them: Recombinant AAT (rAAT) AAT can come from two sources: human plasma and through the use of recombinant technology. Scientists use this technology to create new proteins or change existing ones. In the future, it could be a more consistent and reliable source of AAT. But it\\'s a newer technology and not approved to treat AAT deficiency.\", \"Inhaled AAT People with AAT deficiency have replacement therapy through an IV, which can be inconvenient and uncomfortable. Researchers are now studying an inhaler that delivers AAT directly to your lungs. They\\'ve found it may work even better than an IV, since most AAT-related damage happens in the lungs. Several studies have found AAT inhalers are safe and boost AAT levels in the lungs.\", \\'Other emerging treatments Other treatments for AAT deficiency are in different stages of development. They include: Gene therapy. This involves replacing the faulty gene responsible for AAT deficiency with a healthy one. Research into gene therapy for AAT deficiency has been mixed. The results of one study showed the treatment is safe and worked to keep AAT levels in the normal range. But the results of another study showed lower AAT levels. Stem cell therapy. This treatment replaces damaged cells with healthy stem cells. The stem cells come from people with AAT, which scientists use to study and create treatments for the disease. Small molecule therapy. These are drugs that target specific molecules involved in disease. In AAT deficiency, they could help slow liver damage by stopping the protein from building up in liver cells. This type of therapy shows promise but needs more research.\\']'"
      ]
     },
     "execution_count": 4,
     "metadata": {},
     "output_type": "execute_result"
    }
   ],
   "source": [
    "df = pd.read_csv(\"scraped/webmd_diseases.csv\")\n",
    "df.loc[0, \"body\"]"
   ]
  },
  {
   "cell_type": "code",
   "execution_count": 5,
   "metadata": {},
   "outputs": [],
   "source": [
    "def parse(text):\n",
    "    text = text[1:-1].replace(\"\\\\xa0\", ' ').replace(\"\\\",\", \"|\").replace(\"',\", \"|\").replace(\"\\\\\", \"\").split(\"|\")\n",
    "    for i in range(len(text)):\n",
    "        text[i] = text[i].strip(\" \\\"'\")\n",
    "    return text"
   ]
  },
  {
   "cell_type": "code",
   "execution_count": 6,
   "metadata": {},
   "outputs": [],
   "source": [
    "def df_with_map_text_chunk_to_index(df):\n",
    "    mapped = pd.DataFrame(columns=[\"df_index\", \"text\"])\n",
    "    for i in range(df.shape[0]):\n",
    "        parsed = parse(df.loc[i, \"body\"])\n",
    "        article_row = []\n",
    "        for chunk in parsed:\n",
    "            new_row = {\"df_index\": i, \"text\": chunk}\n",
    "            article_row.append(new_row)\n",
    "        new_df = pd.DataFrame(article_row)\n",
    "        mapped = pd.concat([mapped, new_df])\n",
    "    return mapped"
   ]
  },
  {
   "cell_type": "code",
   "execution_count": 7,
   "metadata": {},
   "outputs": [],
   "source": [
    "def create_lookup(df):\n",
    "    mapped = pd.DataFrame(columns=[\"text\"])\n",
    "    for i in range(df.shape[0]):\n",
    "        parsed = parse(df.loc[i, \"body\"])\n",
    "        temp = \"\"\n",
    "        for chunk in parsed:\n",
    "            temp += chunk\n",
    "        mapped = pd.concat([mapped, pd.DataFrame({\"text\": temp}, index=[i])])\n",
    "    return mapped"
   ]
  },
  {
   "cell_type": "code",
   "execution_count": 8,
   "metadata": {},
   "outputs": [],
   "source": [
    "#p = df_with_map_text_chunk_to_index(df)\n",
    "#p.shape"
   ]
  },
  {
   "cell_type": "code",
   "execution_count": 9,
   "metadata": {},
   "outputs": [],
   "source": [
    "#test = pd.read_csv(\"scraped/chunked_embedding.csv\", converters={\"embedding\": ast.literal_eval})\n"
   ]
  },
  {
   "cell_type": "code",
   "execution_count": 10,
   "metadata": {},
   "outputs": [],
   "source": [
    "#val = test.loc[:, 'embedding'].values\n",
    "#for l in val:\n",
    "#    print(len(l))"
   ]
  },
  {
   "cell_type": "code",
   "execution_count": 11,
   "metadata": {},
   "outputs": [],
   "source": [
    "emb_df, emb_np = llm.load_data(\"./scraped/embeddings.csv\")\n",
    "lookup = pd.read_csv(\"./scraped/lookup.csv\")"
   ]
  },
  {
   "cell_type": "code",
   "execution_count": 12,
   "metadata": {},
   "outputs": [
    {
     "data": {
      "text/plain": [
       "((1205, 1), (12299, 2), (12299, 1536))"
      ]
     },
     "execution_count": 12,
     "metadata": {},
     "output_type": "execute_result"
    }
   ],
   "source": [
    "lookup.shape, emb_df.shape, emb_np.shape"
   ]
  },
  {
   "cell_type": "code",
   "execution_count": 13,
   "metadata": {},
   "outputs": [
    {
     "data": {
      "text/html": [
       "<div>\n",
       "<style scoped>\n",
       "    .dataframe tbody tr th:only-of-type {\n",
       "        vertical-align: middle;\n",
       "    }\n",
       "\n",
       "    .dataframe tbody tr th {\n",
       "        vertical-align: top;\n",
       "    }\n",
       "\n",
       "    .dataframe thead th {\n",
       "        text-align: right;\n",
       "    }\n",
       "</style>\n",
       "<table border=\"1\" class=\"dataframe\">\n",
       "  <thead>\n",
       "    <tr style=\"text-align: right;\">\n",
       "      <th></th>\n",
       "      <th>text</th>\n",
       "    </tr>\n",
       "  </thead>\n",
       "  <tbody>\n",
       "    <tr>\n",
       "      <th>0</th>\n",
       "      <td>What Is AAT Deficiency? Alpha-1 antitrypsin (A...</td>\n",
       "    </tr>\n",
       "    <tr>\n",
       "      <th>1</th>\n",
       "      <td>Headache and nausea are common, and they can h...</td>\n",
       "    </tr>\n",
       "    <tr>\n",
       "      <th>2</th>\n",
       "      <td>Amyloidosis is when an abnormal protein called...</td>\n",
       "    </tr>\n",
       "    <tr>\n",
       "      <th>3</th>\n",
       "      <td>What Is a Pap Smear? A Pap smear, also called ...</td>\n",
       "    </tr>\n",
       "    <tr>\n",
       "      <th>4</th>\n",
       "      <td>There are a few types of procedures to induce ...</td>\n",
       "    </tr>\n",
       "  </tbody>\n",
       "</table>\n",
       "</div>"
      ],
      "text/plain": [
       "                                                text\n",
       "0  What Is AAT Deficiency? Alpha-1 antitrypsin (A...\n",
       "1  Headache and nausea are common, and they can h...\n",
       "2  Amyloidosis is when an abnormal protein called...\n",
       "3  What Is a Pap Smear? A Pap smear, also called ...\n",
       "4  There are a few types of procedures to induce ..."
      ]
     },
     "execution_count": 13,
     "metadata": {},
     "output_type": "execute_result"
    }
   ],
   "source": [
    "lookup.head()"
   ]
  },
  {
   "cell_type": "code",
   "execution_count": 14,
   "metadata": {},
   "outputs": [
    {
     "data": {
      "text/html": [
       "<div>\n",
       "<style scoped>\n",
       "    .dataframe tbody tr th:only-of-type {\n",
       "        vertical-align: middle;\n",
       "    }\n",
       "\n",
       "    .dataframe tbody tr th {\n",
       "        vertical-align: top;\n",
       "    }\n",
       "\n",
       "    .dataframe thead th {\n",
       "        text-align: right;\n",
       "    }\n",
       "</style>\n",
       "<table border=\"1\" class=\"dataframe\">\n",
       "  <thead>\n",
       "    <tr style=\"text-align: right;\">\n",
       "      <th></th>\n",
       "      <th>df_index</th>\n",
       "      <th>embedding</th>\n",
       "    </tr>\n",
       "  </thead>\n",
       "  <tbody>\n",
       "    <tr>\n",
       "      <th>0</th>\n",
       "      <td>0</td>\n",
       "      <td>[-0.0028367843478918076, -0.03506242111325264,...</td>\n",
       "    </tr>\n",
       "    <tr>\n",
       "      <th>1</th>\n",
       "      <td>0</td>\n",
       "      <td>[0.008348198607563972, -0.034819234162569046, ...</td>\n",
       "    </tr>\n",
       "    <tr>\n",
       "      <th>2</th>\n",
       "      <td>0</td>\n",
       "      <td>[-0.01567361317574978, 0.0023761484771966934, ...</td>\n",
       "    </tr>\n",
       "    <tr>\n",
       "      <th>3</th>\n",
       "      <td>0</td>\n",
       "      <td>[-0.021367991343140602, -0.023144785314798355,...</td>\n",
       "    </tr>\n",
       "    <tr>\n",
       "      <th>4</th>\n",
       "      <td>0</td>\n",
       "      <td>[-0.016345791518688202, -0.026688482612371445,...</td>\n",
       "    </tr>\n",
       "  </tbody>\n",
       "</table>\n",
       "</div>"
      ],
      "text/plain": [
       "   df_index                                          embedding\n",
       "0         0  [-0.0028367843478918076, -0.03506242111325264,...\n",
       "1         0  [0.008348198607563972, -0.034819234162569046, ...\n",
       "2         0  [-0.01567361317574978, 0.0023761484771966934, ...\n",
       "3         0  [-0.021367991343140602, -0.023144785314798355,...\n",
       "4         0  [-0.016345791518688202, -0.026688482612371445,..."
      ]
     },
     "execution_count": 14,
     "metadata": {},
     "output_type": "execute_result"
    }
   ],
   "source": [
    "emb_df.head()"
   ]
  }
 ],
 "metadata": {
  "kernelspec": {
   "display_name": ".venv",
   "language": "python",
   "name": "python3"
  },
  "language_info": {
   "codemirror_mode": {
    "name": "ipython",
    "version": 3
   },
   "file_extension": ".py",
   "mimetype": "text/x-python",
   "name": "python",
   "nbconvert_exporter": "python",
   "pygments_lexer": "ipython3",
   "version": "3.10.4"
  }
 },
 "nbformat": 4,
 "nbformat_minor": 2
}
