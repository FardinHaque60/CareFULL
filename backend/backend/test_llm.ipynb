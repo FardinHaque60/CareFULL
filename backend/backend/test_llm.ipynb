{
 "cells": [
  {
   "cell_type": "code",
   "execution_count": 1,
   "metadata": {},
   "outputs": [
    {
     "name": "stderr",
     "output_type": "stream",
     "text": [
      "/var/folders/wb/m8jjr46910vf3x9p4gl6r7k40000gn/T/ipykernel_8191/1299928476.py:1: DeprecationWarning: \n",
      "Pyarrow will become a required dependency of pandas in the next major release of pandas (pandas 3.0),\n",
      "(to allow more performant data types, such as the Arrow string type, and better interoperability with other libraries)\n",
      "but was not found to be installed on your system.\n",
      "If this would cause problems for you,\n",
      "please provide us feedback at https://github.com/pandas-dev/pandas/issues/54466\n",
      "        \n",
      "  import pandas as pd\n"
     ]
    }
   ],
   "source": [
    "import pandas as pd\n",
    "import numpy as np\n",
    "import llm"
   ]
  },
  {
   "cell_type": "code",
   "execution_count": 3,
   "metadata": {},
   "outputs": [
    {
     "name": "stdout",
     "output_type": "stream",
     "text": [
      "[[-0.00283678 -0.03506242  0.03390218 ...  0.02387772 -0.00886423\n",
      "   0.01609251]\n",
      " [ 0.0083482  -0.03481923  0.0172927  ...  0.01771361 -0.00575546\n",
      "   0.02913685]\n",
      " [-0.01567361  0.00237615  0.03531644 ...  0.03634461  0.00023575\n",
      "  -0.00352985]\n",
      " ...\n",
      " [-0.00370645  0.03819533  0.03572817 ...  0.04038837 -0.00741862\n",
      "  -0.04239865]\n",
      " [-0.00939437  0.03840989  0.03058521 ...  0.02287945 -0.00507474\n",
      "  -0.03358189]\n",
      " [-0.00508175  0.06694107  0.03064204 ...  0.01161704  0.00368153\n",
      "  -0.01938418]]\n"
     ]
    }
   ],
   "source": [
    "df, emb = llm.load_data(\"scraped/chunked_embedding.csv\")\n",
    "print(emb)"
   ]
  },
  {
   "cell_type": "code",
   "execution_count": 4,
   "metadata": {},
   "outputs": [],
   "source": [
    "query = llm.get_embedding(\"I think I might have amyloidosis\")"
   ]
  },
  {
   "cell_type": "code",
   "execution_count": 5,
   "metadata": {},
   "outputs": [],
   "source": [
    "max_index, similarities = llm.get_closest(query, emb)"
   ]
  },
  {
   "cell_type": "code",
   "execution_count": 6,
   "metadata": {},
   "outputs": [
    {
     "name": "stdout",
     "output_type": "stream",
     "text": [
      "max_index: 43, similarity score: 0.6171574022937047\n",
      "\n",
      "df_index                                                     2\n",
      "text         What to Expect Amyloidosis can be deadly, espe...\n",
      "embedding    [0.03136491775512695, -0.052650824189186096, 0...\n",
      "Name: 43, dtype: object\n"
     ]
    }
   ],
   "source": [
    "print(f\"max_index: {max_index}, similarity score: {similarities[max_index]}\\n\")\n",
    "print(df.iloc[max_index])"
   ]
  },
  {
   "cell_type": "code",
   "execution_count": 8,
   "metadata": {},
   "outputs": [
    {
     "data": {
      "text/plain": [
       "'What to Expect Amyloidosis can be deadly, especially if it affects your heart or kidneys. Early diagnosis and treatment are important and can help improve survival. Researchers continue to question why some types of amyloid make people sick and how the formation of amyloid can be stopped. Studies to find new treatments are ongoing. If you have amyloidosis, consider asking your doctor if there are any clinical trials you can join, or search for one by visiting www.clinicaltrials.gov and typing in the search term \"amyloidosis.'"
      ]
     },
     "execution_count": 8,
     "metadata": {},
     "output_type": "execute_result"
    }
   ],
   "source": [
    "# response message\n",
    "df.iloc[max_index].text"
   ]
  }
 ],
 "metadata": {
  "kernelspec": {
   "display_name": ".venv",
   "language": "python",
   "name": "python3"
  },
  "language_info": {
   "codemirror_mode": {
    "name": "ipython",
    "version": 3
   },
   "file_extension": ".py",
   "mimetype": "text/x-python",
   "name": "python",
   "nbconvert_exporter": "python",
   "pygments_lexer": "ipython3",
   "version": "3.11.8"
  }
 },
 "nbformat": 4,
 "nbformat_minor": 2
}
